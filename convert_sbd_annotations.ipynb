{
 "cells": [
  {
   "cell_type": "markdown",
   "metadata": {},
   "source": [
    "# Convert SBD Annotations\n",
    "The SBD dataset is based on Pascal but with additional annotations. The class segmentation annotations along with boundary annotations are stored in \".mat\" files. In order to use the annotations for training and validation of FCN, the segmentations are required to be saved as png files, compatible with the validation segmentations. The code below, borrowed from https://github.com/shelhamer/fcn.berkeleyvision.org/tree/master/data/pascal takes care of the conversion.\n",
    "\n",
    "__NOTE:__ This notebook uses they scipy package tor read mat files. This package is not install in the priming virtual environment. Please run the notebook with a kernel that has scipy installed."
   ]
  },
  {
   "cell_type": "code",
   "execution_count": 1,
   "metadata": {},
   "outputs": [],
   "source": [
    "import os\n",
    "import glob\n",
    "import numpy as np\n",
    "import scipy.io\n",
    "\n",
    "from PIL import Image"
   ]
  },
  {
   "cell_type": "code",
   "execution_count": 2,
   "metadata": {},
   "outputs": [],
   "source": [
    "def make_palette(num_classes):\n",
    "    \"\"\"\n",
    "    Maps classes to colors in the style of PASCAL VOC.\n",
    "    Close values are mapped to far colors for segmentation visualization.\n",
    "    See http://host.robots.ox.ac.uk/pascal/VOC/voc2012/index.html#devkit\n",
    "    Takes:\n",
    "        num_classes: the number of classes\n",
    "    Gives:\n",
    "        palette: the colormap as a k x 3 array of RGB colors\n",
    "    \"\"\"\n",
    "    palette = np.zeros((num_classes, 3), dtype=np.uint8)\n",
    "    for k in np.arange(0, num_classes):\n",
    "        label = k\n",
    "        i = 0\n",
    "        while label:\n",
    "            palette[k, 0] |= (((label >> 0) & 1) << (7 - i))\n",
    "            palette[k, 1] |= (((label >> 1) & 1) << (7 - i))\n",
    "            palette[k, 2] |= (((label >> 2) & 1) << (7 - i))\n",
    "            label >>= 3\n",
    "            i += 1\n",
    "    return palette"
   ]
  },
  {
   "cell_type": "code",
   "execution_count": 7,
   "metadata": {},
   "outputs": [
    {
     "name": "stdout",
     "output_type": "stream",
     "text": [
      "Converting 0th annotation...\n",
      "Converting 100th annotation...\n",
      "Converting 200th annotation...\n",
      "Converting 300th annotation...\n",
      "Converting 400th annotation...\n",
      "Converting 500th annotation...\n",
      "Converting 600th annotation...\n",
      "Converting 700th annotation...\n",
      "Converting 800th annotation...\n",
      "Converting 900th annotation...\n",
      "Converting 1000th annotation...\n",
      "Converting 1100th annotation...\n",
      "Converting 1200th annotation...\n",
      "Converting 1300th annotation...\n",
      "Converting 1400th annotation...\n",
      "Converting 1500th annotation...\n",
      "Converting 1600th annotation...\n",
      "Converting 1700th annotation...\n",
      "Converting 1800th annotation...\n",
      "Converting 1900th annotation...\n",
      "Converting 2000th annotation...\n",
      "Converting 2100th annotation...\n",
      "Converting 2200th annotation...\n",
      "Converting 2300th annotation...\n",
      "Converting 2400th annotation...\n",
      "Converting 2500th annotation...\n",
      "Converting 2600th annotation...\n",
      "Converting 2700th annotation...\n",
      "Converting 2800th annotation...\n",
      "Converting 2900th annotation...\n",
      "Converting 3000th annotation...\n",
      "Converting 3100th annotation...\n",
      "Converting 3200th annotation...\n",
      "Converting 3300th annotation...\n",
      "Converting 3400th annotation...\n",
      "Converting 3500th annotation...\n",
      "Converting 3600th annotation...\n",
      "Converting 3700th annotation...\n",
      "Converting 3800th annotation...\n",
      "Converting 3900th annotation...\n",
      "Converting 4000th annotation...\n",
      "Converting 4100th annotation...\n",
      "Converting 4200th annotation...\n",
      "Converting 4300th annotation...\n",
      "Converting 4400th annotation...\n",
      "Converting 4500th annotation...\n",
      "Converting 4600th annotation...\n",
      "Converting 4700th annotation...\n",
      "Converting 4800th annotation...\n",
      "Converting 4900th annotation...\n",
      "Converting 5000th annotation...\n",
      "Converting 5100th annotation...\n",
      "Converting 5200th annotation...\n",
      "Converting 5300th annotation...\n",
      "Converting 5400th annotation...\n",
      "Converting 5500th annotation...\n",
      "Converting 5600th annotation...\n"
     ]
    }
   ],
   "source": [
    "dataset_dir = '/mnt/storage/Work/datasets/priming/SBD_dataset/benchmark_RELEASE/priming_sdb_dataset/train/'\n",
    "segmentation_dir = '/mnt/storage/Work/datasets/priming/SBD_dataset/benchmark_RELEASE/priming_sdb_dataset/train/SegmentationClass/'\n",
    "palette = make_palette(256).reshape(-1)\n",
    "\n",
    "for kind in ['cls']:#, 'inst'):\n",
    "    # collect the inputs\n",
    "    paths = glob.glob('{}/{}/*.mat'.format(dataset_dir, kind))\n",
    "    ids = [os.path.basename(p)[:-4] for p in paths]\n",
    "    for i, idx in enumerate(ids):\n",
    "        if i % 100 == 0:\n",
    "            print(\"Converting {}th annotation...\".format(i))\n",
    "        # loading the label\n",
    "        mat = scipy.io.loadmat('{}/{}/{}.mat'.format(dataset_dir, kind, idx))\n",
    "        label_arr = mat['GT{}'.format(kind)][0]['Segmentation'][0].astype(np.uint8)\n",
    "        # saving the label\n",
    "        label_im = Image.fromarray(label_arr)\n",
    "        label_im.putpalette(palette)\n",
    "        label_im.save('{}/{}.png'.format(segmentation_dir, idx))"
   ]
  },
  {
   "cell_type": "markdown",
   "metadata": {},
   "source": [
    "## Check the converted files"
   ]
  },
  {
   "cell_type": "code",
   "execution_count": 8,
   "metadata": {},
   "outputs": [],
   "source": [
    "import matplotlib.pyplot as plt"
   ]
  },
  {
   "cell_type": "code",
   "execution_count": 13,
   "metadata": {
    "scrolled": true
   },
   "outputs": [
    {
     "name": "stdout",
     "output_type": "stream",
     "text": [
      "[0.        0.5019608 0.7529412]\n"
     ]
    },
    {
     "data": {
      "image/png": "[encoded data removed]",
      "text/plain": [
       "<Figure size 432x288 with 1 Axes>"
      ]
     },
     "metadata": {
      "needs_background": "light"
     },
     "output_type": "display_data"
    }
   ],
   "source": [
    "segmentation_dir = '/mnt/storage/Work/datasets/priming/SBD_dataset/benchmark_RELEASE/priming_sdb_dataset/train/SegmentationClass/'\n",
    "img_name = segmentation_dir + '2011_003109.png'\n",
    "img = plt.imread(img_name)\n",
    "plt.figure()\n",
    "plt.imshow(img)\n",
    "print(np.unique(img[:,:,0]))"
   ]
  },
  {
   "cell_type": "code",
   "execution_count": 26,
   "metadata": {},
   "outputs": [
    {
     "data": {
      "text/plain": [
       "<matplotlib.image.AxesImage at 0x7f584523c4c0>"
      ]
     },
     "execution_count": 26,
     "metadata": {},
     "output_type": "execute_result"
    },
    {
     "data": {
      "image/png": "[encoded data removed]",
      "text/plain": [
       "<Figure size 432x288 with 1 Axes>"
      ]
     },
     "metadata": {
      "needs_background": "light"
     },
     "output_type": "display_data"
    }
   ],
   "source": [
    "pascal_dir = '/mnt/storage/Work/datasets/priming/SBD_dataset/benchmark_RELEASE/Pascal2011/TrainVal/VOCdevkit/VOC2011/SegmentationClass/'\n",
    "img_name = '2010_005800.png'\n",
    "img = plt.imread(pascal_dir + img_name)\n",
    "plt.figure()\n",
    "plt.imshow(img)"
   ]
  }
 ],
 "metadata": {
  "kernelspec": {
   "display_name": "Python 3",
   "language": "python",
   "name": "python3"
  },
  "language_info": {
   "codemirror_mode": {
    "name": "ipython",
    "version": 3
   },
   "file_extension": ".py",
   "mimetype": "text/x-python",
   "name": "python",
   "nbconvert_exporter": "python",
   "pygments_lexer": "ipython3",
   "version": "3.8.5"
  }
 },
 "nbformat": 4,
 "nbformat_minor": 4
}
