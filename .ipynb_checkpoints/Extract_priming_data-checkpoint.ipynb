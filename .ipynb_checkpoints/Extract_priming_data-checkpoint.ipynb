{
 "cells": [
  {
   "cell_type": "markdown",
   "metadata": {},
   "source": [
    "# Extract Priming Data\n",
    "In the original priming paper (Amir's paper), the Semantic Boundary Dataset and Benchmark was used for Multi-cue segmentation. The training and validation splits used for the priming paper are subsets of those of the dataset. The goal of this notebook is to extract those images employed for train/validation of the priming network.\n",
    "\n",
    "__NOTE:__ This notebook uses they scipy package tor read mat files. This package is not install in the priming virtual environment. Please run the notebook with a kernel that has scipy installed."
   ]
  },
  {
   "cell_type": "code",
   "execution_count": 7,
   "metadata": {},
   "outputs": [],
   "source": [
    "import os\n",
    "import glob\n",
    "import numpy as np\n",
    "import scipy.io\n",
    "from shutil import copyfile"
   ]
  },
  {
   "cell_type": "markdown",
   "metadata": {},
   "source": [
    "## Extract Train Images\n",
    "Extract the subset of training images that were used in the ECCV2014 paper for the benchmark. The images are listed in \"train_noval.txt\"."
   ]
  },
  {
   "cell_type": "code",
   "execution_count": 20,
   "metadata": {},
   "outputs": [
    {
     "name": "stdout",
     "output_type": "stream",
     "text": [
      "5623\n"
     ]
    }
   ],
   "source": [
    "# Read the image names from train_noval.txt\n",
    "sbd_data_path = '/mnt/storage/Work/datasets/priming/SBD_dataset/benchmark_RELEASE/dataset/'\n",
    "filename = sbd_data_path + 'train_noval.txt'\n",
    "names_list = open(filename, 'r').read().splitlines()\n",
    "print(len(names_list))\n",
    "\n",
    "priming_data_path = '/mnt/storage/Work/datasets/priming/SBD_dataset/benchmark_RELEASE/priming_sdb_dataset/train/'\n",
    "\n",
    "for name in names_list:\n",
    "    # Save the image into the priming \"img\" subdirectory\n",
    "    img_name = 'img/' + name + '.jpg'\n",
    "    copyfile(sbd_data_path + img_name, priming_data_path + img_name)\n",
    "\n",
    "    # Save the mat file in the priming \"cls\" subdirectory\n",
    "    cls_name = 'cls/' + name + '.mat'\n",
    "    copyfile(sbd_data_path + cls_name, priming_data_path + cls_name)"
   ]
  },
  {
   "cell_type": "markdown",
   "metadata": {},
   "source": [
    "## Extract Val Images\n",
    "In the original priming paper, Amir had used the Pascal2011 validation set to test the model. The SBD train dataset overlaps with Pascal2011 validation set. Amir had taken care of the overlaps according to a github page. The names of images in the validation set without overlap are listed in \"seg11valid.txt\"."
   ]
  },
  {
   "cell_type": "code",
   "execution_count": 21,
   "metadata": {
    "scrolled": true
   },
   "outputs": [
    {
     "name": "stdout",
     "output_type": "stream",
     "text": [
      "736\n"
     ]
    }
   ],
   "source": [
    "# Read the image names from seg11valid.txt\n",
    "sbd_data_path = '/mnt/storage/Work/datasets/priming/SBD_dataset/benchmark_RELEASE/dataset/'\n",
    "filename = sbd_data_path + 'seg11valid.txt'\n",
    "names_list = open(filename, 'r').read().splitlines()\n",
    "print(len(names_list))\n",
    "\n",
    "pascal_data_path = '/mnt/storage/Work/datasets/priming/SBD_dataset/benchmark_RELEASE/Pascal2011/TrainVal/VOCdevkit/VOC2011/'\n",
    "priming_data_path = '/mnt/storage/Work/datasets/priming/SBD_dataset/benchmark_RELEASE/priming_sdb_dataset/valid/'\n",
    "\n",
    "for name in names_list:\n",
    "    # Save the image into the priming \"img\" subdirectory\n",
    "    pascal_img_name = 'JPEGImages/' + name + '.jpg'\n",
    "    priming_img_name = 'img/' + name + '.jpg'\n",
    "    copyfile(pascal_data_path + pascal_img_name, \\\n",
    "             priming_data_path + priming_img_name)\n",
    "\n",
    "    # Save the class segmentation file in the priming \"SegmentationClass\" subdirectory\n",
    "    cls_name = 'SegmentationClass/' + name + '.png'\n",
    "    copyfile(pascal_data_path + cls_name, priming_data_path + cls_name)"
   ]
  }
 ],
 "metadata": {
  "kernelspec": {
   "display_name": "Python 3",
   "language": "python",
   "name": "python3"
  },
  "language_info": {
   "codemirror_mode": {
    "name": "ipython",
    "version": 3
   },
   "file_extension": ".py",
   "mimetype": "text/x-python",
   "name": "python",
   "nbconvert_exporter": "python",
   "pygments_lexer": "ipython3",
   "version": "3.8.5"
  }
 },
 "nbformat": 4,
 "nbformat_minor": 4
}
